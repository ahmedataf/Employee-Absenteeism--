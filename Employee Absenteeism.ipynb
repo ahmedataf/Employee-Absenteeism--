{
 "cells": [
  {
   "cell_type": "code",
   "execution_count": 1,
   "metadata": {},
   "outputs": [],
   "source": [
    "import numpy as np\n",
    "import pandas as pd\n",
    "\n",
    "pd.set_option('display.max_rows', 500)\n",
    "pd.set_option('display.max_columns', 500)\n",
    "pd.set_option('display.width', 1000)\n",
    "import matplotlib.pyplot as plt\n",
    "import seaborn as sns\n",
    "import os\n",
    "from sklearn.model_selection import train_test_split\n",
    "from sklearn import linear_model\n",
    "from sklearn.linear_model import LinearRegression\n",
    "from sklearn.linear_model import Ridge\n",
    "from sklearn.metrics import mean_squared_error, r2_score\n",
    "from sklearn.metrics import mean_absolute_error\n",
    "from sklearn.metrics import mean_squared_error\n",
    "from sklearn.metrics import median_absolute_error\n",
    "from sklearn.linear_model import RidgeCV\n",
    "from sklearn.ensemble import RandomForestRegressor\n",
    "from scipy import stats\n",
    "from sklearn.ensemble import ExtraTreesClassifier"
   ]
  },
  {
   "cell_type": "code",
   "execution_count": 2,
   "metadata": {},
   "outputs": [],
   "source": [
    "os.chdir(\"F:\\DATASCIENCE\\EDWISOR\\Project\\EMPLOYEE ABSENTEEISM\")"
   ]
  },
  {
   "cell_type": "code",
   "execution_count": 3,
   "metadata": {},
   "outputs": [],
   "source": [
    "data = pd.read_excel(\"work.xls\")"
   ]
  },
  {
   "cell_type": "code",
   "execution_count": null,
   "metadata": {},
   "outputs": [],
   "source": [
    "data.shape"
   ]
  },
  {
   "cell_type": "code",
   "execution_count": null,
   "metadata": {},
   "outputs": [],
   "source": [
    "data.head(7)"
   ]
  },
  {
   "cell_type": "code",
   "execution_count": null,
   "metadata": {},
   "outputs": [],
   "source": [
    "data.dtypes"
   ]
  },
  {
   "cell_type": "code",
   "execution_count": null,
   "metadata": {},
   "outputs": [],
   "source": [
    "data.describe().transpose()"
   ]
  },
  {
   "cell_type": "code",
   "execution_count": null,
   "metadata": {},
   "outputs": [],
   "source": [
    "data.hist(figsize=(15,15))"
   ]
  },
  {
   "cell_type": "markdown",
   "metadata": {},
   "source": [
    "# MISSING VALUE ANALYSIS "
   ]
  },
  {
   "cell_type": "code",
   "execution_count": null,
   "metadata": {},
   "outputs": [],
   "source": [
    "data.isnull().sum()"
   ]
  },
  {
   "cell_type": "markdown",
   "metadata": {},
   "source": [
    "SINCE WE HAVE 36 UNIQUE VALUES OF ID, IT CAN BE VERY USEFUL FOR IMPUTING MISSING PERSONAL DATA OF EMPLOYEES"
   ]
  },
  {
   "cell_type": "code",
   "execution_count": 4,
   "metadata": {},
   "outputs": [
    {
     "name": "stderr",
     "output_type": "stream",
     "text": [
      "C:\\Users\\Ataf\\Anaconda3\\lib\\site-packages\\ipykernel_launcher.py:6: SettingWithCopyWarning: \n",
      "A value is trying to be set on a copy of a slice from a DataFrame\n",
      "\n",
      "See the caveats in the documentation: http://pandas.pydata.org/pandas-docs/stable/indexing.html#indexing-view-versus-copy\n",
      "  \n",
      "C:\\Users\\Ataf\\Anaconda3\\lib\\site-packages\\ipykernel_launcher.py:12: SettingWithCopyWarning: \n",
      "A value is trying to be set on a copy of a slice from a DataFrame\n",
      "\n",
      "See the caveats in the documentation: http://pandas.pydata.org/pandas-docs/stable/indexing.html#indexing-view-versus-copy\n",
      "  if sys.path[0] == '':\n",
      "C:\\Users\\Ataf\\Anaconda3\\lib\\site-packages\\ipykernel_launcher.py:18: SettingWithCopyWarning: \n",
      "A value is trying to be set on a copy of a slice from a DataFrame\n",
      "\n",
      "See the caveats in the documentation: http://pandas.pydata.org/pandas-docs/stable/indexing.html#indexing-view-versus-copy\n",
      "C:\\Users\\Ataf\\Anaconda3\\lib\\site-packages\\ipykernel_launcher.py:24: SettingWithCopyWarning: \n",
      "A value is trying to be set on a copy of a slice from a DataFrame\n",
      "\n",
      "See the caveats in the documentation: http://pandas.pydata.org/pandas-docs/stable/indexing.html#indexing-view-versus-copy\n",
      "C:\\Users\\Ataf\\Anaconda3\\lib\\site-packages\\ipykernel_launcher.py:30: SettingWithCopyWarning: \n",
      "A value is trying to be set on a copy of a slice from a DataFrame\n",
      "\n",
      "See the caveats in the documentation: http://pandas.pydata.org/pandas-docs/stable/indexing.html#indexing-view-versus-copy\n",
      "C:\\Users\\Ataf\\Anaconda3\\lib\\site-packages\\ipykernel_launcher.py:36: SettingWithCopyWarning: \n",
      "A value is trying to be set on a copy of a slice from a DataFrame\n",
      "\n",
      "See the caveats in the documentation: http://pandas.pydata.org/pandas-docs/stable/indexing.html#indexing-view-versus-copy\n",
      "C:\\Users\\Ataf\\Anaconda3\\lib\\site-packages\\ipykernel_launcher.py:42: SettingWithCopyWarning: \n",
      "A value is trying to be set on a copy of a slice from a DataFrame\n",
      "\n",
      "See the caveats in the documentation: http://pandas.pydata.org/pandas-docs/stable/indexing.html#indexing-view-versus-copy\n",
      "C:\\Users\\Ataf\\Anaconda3\\lib\\site-packages\\ipykernel_launcher.py:48: SettingWithCopyWarning: \n",
      "A value is trying to be set on a copy of a slice from a DataFrame\n",
      "\n",
      "See the caveats in the documentation: http://pandas.pydata.org/pandas-docs/stable/indexing.html#indexing-view-versus-copy\n",
      "C:\\Users\\Ataf\\Anaconda3\\lib\\site-packages\\ipykernel_launcher.py:54: SettingWithCopyWarning: \n",
      "A value is trying to be set on a copy of a slice from a DataFrame\n",
      "\n",
      "See the caveats in the documentation: http://pandas.pydata.org/pandas-docs/stable/indexing.html#indexing-view-versus-copy\n",
      "C:\\Users\\Ataf\\Anaconda3\\lib\\site-packages\\ipykernel_launcher.py:60: SettingWithCopyWarning: \n",
      "A value is trying to be set on a copy of a slice from a DataFrame\n",
      "\n",
      "See the caveats in the documentation: http://pandas.pydata.org/pandas-docs/stable/indexing.html#indexing-view-versus-copy\n",
      "C:\\Users\\Ataf\\Anaconda3\\lib\\site-packages\\ipykernel_launcher.py:66: SettingWithCopyWarning: \n",
      "A value is trying to be set on a copy of a slice from a DataFrame\n",
      "\n",
      "See the caveats in the documentation: http://pandas.pydata.org/pandas-docs/stable/indexing.html#indexing-view-versus-copy\n",
      "C:\\Users\\Ataf\\Anaconda3\\lib\\site-packages\\ipykernel_launcher.py:72: SettingWithCopyWarning: \n",
      "A value is trying to be set on a copy of a slice from a DataFrame\n",
      "\n",
      "See the caveats in the documentation: http://pandas.pydata.org/pandas-docs/stable/indexing.html#indexing-view-versus-copy\n"
     ]
    }
   ],
   "source": [
    "\n",
    "#TRANSPORTATION EXPENSE\n",
    "for x in range(len(data[\"Transportation expense\"])):\n",
    "    if pd.isnull(data[\"Transportation expense\"][x]):\n",
    "        ID = data[\"ID\"][x] \n",
    "        data[\"Transportation expense\"][x] = round(data[data[\"ID\"] == ID][\"Transportation expense\"].mean(), 2)\n",
    "\n",
    "#DISTANCE FROM RESIDENCE TO WORK\n",
    "for x in range(len(data[\"Distance from Residence to Work\"])):\n",
    "    if pd.isnull(data[\"Distance from Residence to Work\"][x]):\n",
    "        ID = data[\"ID\"][x] \n",
    "        data[\"Distance from Residence to Work\"][x] = round(data[data[\"ID\"] == ID][\"Distance from Residence to Work\"].mean(), 2)\n",
    "\n",
    "#SERVICE TIME\n",
    "for x in range(len(data[\"Service time\"])):\n",
    "    if pd.isnull(data[\"Service time\"][x]):\n",
    "        ID = data[\"ID\"][x] \n",
    "        data[\"Service time\"][x] = round(data[data[\"ID\"] == ID][\"Service time\"].mean(), 2)\n",
    "    \n",
    "#AGE\n",
    "for x in range(len(data[\"Age\"])):\n",
    "    if pd.isnull(data[\"Age\"][x]):\n",
    "        ID = data[\"ID\"][x] \n",
    "        data[\"Age\"][x] = round(data[data[\"ID\"] == ID][\"Age\"].mean(), 2)\n",
    "\n",
    "#EDUCATION\n",
    "for x in range(len(data[\"Education\"])):\n",
    "    if pd.isnull(data[\"Education\"][x]):\n",
    "        ID = data[\"ID\"][x] \n",
    "        data[\"Education\"][x] = data[data[\"ID\"] == ID][\"Education\"].mode()\n",
    "        \n",
    "#SON\n",
    "for x in range(len(data[\"Son\"])):\n",
    "    if pd.isnull(data[\"Son\"][x]):\n",
    "        ID = data[\"ID\"][x] \n",
    "        data[\"Son\"][x] = data[data[\"ID\"] == ID][\"Son\"].mode()\n",
    "\n",
    "#SOCIAL DRINKER\n",
    "for x in range(len(data[\"Social drinker\"])):\n",
    "    if pd.isnull(data[\"Social drinker\"][x]):\n",
    "        ID = data[\"ID\"][x] \n",
    "        data[\"Social drinker\"][x] = data[data[\"ID\"] == ID][\"Social drinker\"].mode()\n",
    "\n",
    "#SOCIAL SMOKER\n",
    "for x in range(len(data[\"Social smoker\"])):\n",
    "    if pd.isnull(data[\"Social smoker\"][x]):\n",
    "        ID = data[\"ID\"][x] \n",
    "        data[\"Social smoker\"][x] = data[data[\"ID\"] == ID][\"Social smoker\"].mode()\n",
    "\n",
    "#PET\n",
    "for x in range(len(data[\"Pet\"])):\n",
    "    if pd.isnull(data[\"Pet\"][x]):\n",
    "        ID = data[\"ID\"][x] \n",
    "        data[\"Pet\"][x] = data[data[\"ID\"] == ID][\"Pet\"].mode()\n",
    "\n",
    "#WEIGHT\n",
    "for x in range(len(data[\"Weight\"])):\n",
    "    if pd.isnull(data[\"Weight\"][x]):\n",
    "        ID = data[\"ID\"][x] \n",
    "        data[\"Weight\"][x] = data[data[\"ID\"] == ID][\"Weight\"].mode()\n",
    "\n",
    "#HEIGHT\n",
    "for x in range(len(data[\"Height\"])):\n",
    "    if pd.isnull(data[\"Height\"][x]):\n",
    "        ID = data[\"ID\"][x] \n",
    "        data[\"Height\"][x] = data[data[\"ID\"] == ID][\"Height\"].mode()\n",
    "\n",
    "#BMI\n",
    "for x in range(len(data[\"Body mass index\"])):\n",
    "    if pd.isnull(data[\"Body mass index\"][x]):\n",
    "        ID = data[\"ID\"][x] \n",
    "        data[\"Body mass index\"][x] = data[data[\"ID\"] == ID][\"Body mass index\"].mode()\n"
   ]
  },
  {
   "cell_type": "code",
   "execution_count": 5,
   "metadata": {},
   "outputs": [],
   "source": [
    "#Impute reason for absence,month and disciplinary failure with mode\n",
    "\n",
    "data['Reason for absence'] = data['Reason for absence'].fillna(23.0)\n",
    "data['Disciplinary failure'] = data['Disciplinary failure'].fillna(0.0)\n",
    "data['Month of absence'] = data['Month of absence'].fillna(3.0)"
   ]
  },
  {
   "cell_type": "code",
   "execution_count": 6,
   "metadata": {},
   "outputs": [],
   "source": [
    "#Imputing with mean for average work load and hit target\n",
    "data['Work load Average/day '] = data['Work load Average/day '].fillna(data['Work load Average/day '].mean())\n",
    "data['Hit target'] = data['Hit target'].fillna(data['Hit target'].mean())"
   ]
  },
  {
   "cell_type": "markdown",
   "metadata": {},
   "source": [
    "REASON OF ABSENCE CAN BE USED FOR ABSENTEEISM TIME IN HOURS"
   ]
  },
  {
   "cell_type": "code",
   "execution_count": 7,
   "metadata": {},
   "outputs": [
    {
     "name": "stderr",
     "output_type": "stream",
     "text": [
      "C:\\Users\\Ataf\\Anaconda3\\lib\\site-packages\\ipykernel_launcher.py:4: SettingWithCopyWarning: \n",
      "A value is trying to be set on a copy of a slice from a DataFrame\n",
      "\n",
      "See the caveats in the documentation: http://pandas.pydata.org/pandas-docs/stable/indexing.html#indexing-view-versus-copy\n",
      "  after removing the cwd from sys.path.\n"
     ]
    }
   ],
   "source": [
    "for x in range(len(data[\"Absenteeism time in hours\"])):\n",
    "    if pd.isnull(data[\"Absenteeism time in hours\"][x]):\n",
    "        reason = data[\"Reason for absence\"][x] \n",
    "        data[\"Absenteeism time in hours\"][x] = data[data[\"Reason for absence\"] == reason][\"Absenteeism time in hours\"].median()\n"
   ]
  },
  {
   "cell_type": "code",
   "execution_count": null,
   "metadata": {},
   "outputs": [],
   "source": [
    "data.isnull().sum()"
   ]
  },
  {
   "cell_type": "code",
   "execution_count": null,
   "metadata": {},
   "outputs": [],
   "source": [
    "data.dtypes"
   ]
  },
  {
   "cell_type": "markdown",
   "metadata": {},
   "source": [
    "## OUTLIER ANALYSIS"
   ]
  },
  {
   "cell_type": "code",
   "execution_count": null,
   "metadata": {},
   "outputs": [],
   "source": [
    "data.plot(kind='box',subplots=True,layout=(11,2),sharex=False,sharey=False,figsize=(30,30))\n",
    "plt.show()\n"
   ]
  },
  {
   "cell_type": "markdown",
   "metadata": {},
   "source": [
    "OUTLIERS ARE PRESENT IN MANY VARIABLES.\n",
    "OUR FIRST STEP WOULD BE TO REPLACE THEM WITH NA."
   ]
  },
  {
   "cell_type": "code",
   "execution_count": 8,
   "metadata": {},
   "outputs": [
    {
     "name": "stdout",
     "output_type": "stream",
     "text": [
      "57.5\n",
      "381.5\n",
      "-35.0\n",
      "101.0\n",
      "-1.5\n",
      "26.5\n",
      "17.5\n",
      "53.5\n",
      "183688.0\n",
      "345552.0\n",
      "87.0\n",
      "103.0\n",
      "39.0\n",
      "119.0\n",
      "164.5\n",
      "176.5\n",
      "13.5\n",
      "41.5\n",
      "-7.0\n",
      "17.0\n",
      "-7.0\n",
      "17.0\n"
     ]
    }
   ],
   "source": [
    "numeric = ['Transportation expense' , 'Distance from Residence to Work' , 'Service time' , 'Age' ,\n",
    "           'Work load Average/day ' , 'Hit target' , 'Weight' , 'Height' , 'Body mass index' , 'Absenteeism time in hours']\n",
    "data[numeric] = data[numeric].apply(pd.Series.astype, dtype = 'int')\n",
    "for i in numeric:\n",
    "    q75 , q25 = np.percentile(data.loc[:,i],[75,25])\n",
    "    iqr = q75  -  q25\n",
    "    \n",
    "    min = q25 - (iqr*1.5)\n",
    "    max = q75 + (iqr*1.5)\n",
    "    \n",
    "    print(min)\n",
    "    print(max)\n",
    "    \n",
    "    data.loc[data[i] < min,i] = np.nan\n",
    "    data.loc[data[i] > max,i] = np.nan\n",
    "    \n",
    "\n",
    "print(min)\n",
    "\n",
    "print(max)"
   ]
  },
  {
   "cell_type": "code",
   "execution_count": 9,
   "metadata": {},
   "outputs": [],
   "source": [
    "#Impute replaced outliers\n",
    "data['Transportation expense'] = data['Transportation expense'].fillna(data['Transportation expense'].median())\n",
    "data['Service time']= data['Service time'].fillna(data['Service time'].median())\n",
    "data['Height']= data['Height'].fillna(data['Height'].median())\n",
    "\n",
    "data['Hit target']= data['Hit target'].fillna(data['Hit target'].median())\n",
    "data['Age'] = data['Age'].fillna(data['Age'].median())\n",
    "data['Work load Average/day ']= data['Work load Average/day '].fillna(data['Work load Average/day '].median())\n",
    "data['Absenteeism time in hours']= data['Absenteeism time in hours'].fillna(data['Absenteeism time in hours'].median())"
   ]
  },
  {
   "cell_type": "code",
   "execution_count": null,
   "metadata": {
    "scrolled": false
   },
   "outputs": [],
   "source": [
    "data.isnull().sum()"
   ]
  },
  {
   "cell_type": "markdown",
   "metadata": {},
   "source": [
    "###### HYPOTHESIS ON FEATURES WHICH MAY CAUSE MOST ABSENTEEISM:\n",
    "1. REASON OF ABSENCE\n",
    "2. SEASONS\n",
    "3. TRANSPORTAION EXPENSE\n",
    "4. DISTANCE FROM WORK\n",
    "5. AGE\n",
    "6. WORK LOAD\n",
    "7. SON\n",
    "8. PET\n",
    "10. BMI(UNHEALTHY MIGHT LEAD TO POINT NO. 1 I.E. ILLNESS)"
   ]
  },
  {
   "cell_type": "code",
   "execution_count": 10,
   "metadata": {},
   "outputs": [
    {
     "name": "stdout",
     "output_type": "stream",
     "text": [
      "<class 'pandas.core.frame.DataFrame'>\n",
      "RangeIndex: 740 entries, 0 to 739\n",
      "Data columns (total 21 columns):\n",
      "ID                                 740 non-null int64\n",
      "Reason for absence                 740 non-null float64\n",
      "Month of absence                   740 non-null float64\n",
      "Day of the week                    740 non-null int64\n",
      "Seasons                            740 non-null int64\n",
      "Transportation expense             740 non-null float64\n",
      "Distance from Residence to Work    740 non-null float64\n",
      "Service time                       740 non-null float64\n",
      "Age                                740 non-null float64\n",
      "Work load Average/day              740 non-null float64\n",
      "Hit target                         740 non-null float64\n",
      "Disciplinary failure               740 non-null float64\n",
      "Education                          740 non-null float64\n",
      "Son                                740 non-null float64\n",
      "Social drinker                     740 non-null float64\n",
      "Social smoker                      740 non-null float64\n",
      "Pet                                740 non-null float64\n",
      "Weight                             740 non-null float64\n",
      "Height                             740 non-null float64\n",
      "Body mass index                    740 non-null float64\n",
      "Absenteeism time in hours          740 non-null float64\n",
      "dtypes: float64(18), int64(3)\n",
      "memory usage: 121.5 KB\n"
     ]
    }
   ],
   "source": [
    "data.info()\n",
    "#CONVERTING DATATYPES\n",
    "data['ID'] = data['ID'].astype('category')\n",
    "data['Month of absence'] = data['Month of absence'].astype('category')\n",
    "data['Reason for absence'] = data['Reason for absence'].astype('category')\n",
    "data['Day of the week'] = data['Day of the week'].astype('category')\n",
    "data['Seasons'] = data['Seasons'].astype('category')\n",
    "data['Disciplinary failure'] = data['Disciplinary failure'].astype('category')\n",
    "data['Education'] = data['Education'].astype('category')\n",
    "data['Son'] = data['Son'].astype('category')\n",
    "data['Social drinker'] = data['Social drinker'].astype('category')\n",
    "data['Social smoker'] = data['Social smoker'].astype('category')\n",
    "data['Pet'] = data['Pet'].astype('category')\n",
    "\n",
    "\n",
    "                   \n",
    "                 "
   ]
  },
  {
   "cell_type": "code",
   "execution_count": 11,
   "metadata": {},
   "outputs": [],
   "source": [
    "data = data.rename(columns = {'Reason for absence': 'reason','Month of absence':'month' , 'Day of the week':'Day', 'Transportation expense':'fare'\n",
    "                             , 'Distance from Residence to Work': 'distance' , 'Work load Average/day ':'workload'\n",
    "                             , 'Body mass index': 'bmi', 'Absenteeism time in hours': 'absent_time'})"
   ]
  },
  {
   "cell_type": "code",
   "execution_count": null,
   "metadata": {},
   "outputs": [],
   "source": [
    "data.dtypes"
   ]
  },
  {
   "cell_type": "code",
   "execution_count": 12,
   "metadata": {},
   "outputs": [],
   "source": [
    "numeric = ['fare','distance','Service time','Age','workload','Hit target','Weight','Height','bmi','absent_time']\n",
    "cat = ['ID','reason','month','Day','Seasons','Disciplinary failure','Education','Son','Social drinker','Social smoker'\n",
    "       ,'Pet']"
   ]
  },
  {
   "cell_type": "code",
   "execution_count": null,
   "metadata": {},
   "outputs": [],
   "source": [
    "data.hist(figsize=(15,20))"
   ]
  },
  {
   "cell_type": "markdown",
   "metadata": {},
   "source": [
    "# UNDERSTANDING ABSENTEEISM BY EMPLOYEE ID"
   ]
  },
  {
   "cell_type": "code",
   "execution_count": 13,
   "metadata": {},
   "outputs": [],
   "source": [
    "total_time = data.groupby([\"ID\"]).sum()[['absent_time']]"
   ]
  },
  {
   "cell_type": "code",
   "execution_count": 14,
   "metadata": {},
   "outputs": [],
   "source": [
    "total_time = total_time.rename(columns={'absent_time': 'total_absent_time'})"
   ]
  },
  {
   "cell_type": "code",
   "execution_count": 15,
   "metadata": {},
   "outputs": [],
   "source": [
    "id_data = data.groupby([\"ID\"]).mean()"
   ]
  },
  {
   "cell_type": "code",
   "execution_count": 16,
   "metadata": {},
   "outputs": [],
   "source": [
    "id_data = pd.concat((id_data,total_time),axis=1)"
   ]
  },
  {
   "cell_type": "code",
   "execution_count": 17,
   "metadata": {},
   "outputs": [],
   "source": [
    "\n",
    "id_data = id_data.rename(columns={'absent_time':'mean_absent_time'})\n"
   ]
  },
  {
   "cell_type": "markdown",
   "metadata": {},
   "source": [
    "id_data has 36 rows,one of each ID.\n",
    "It has employee wise information of various features and also mean_absent_time and total_absent_time"
   ]
  },
  {
   "cell_type": "code",
   "execution_count": 18,
   "metadata": {},
   "outputs": [],
   "source": [
    "n=data.groupby(['ID']).agg(lambda x: stats.mode(x)[0][0])\n",
    "n=n.drop(['fare','distance','Service time','Age','workload','Hit target','Weight','Height','bmi','absent_time'],axis=1)"
   ]
  },
  {
   "cell_type": "code",
   "execution_count": 19,
   "metadata": {},
   "outputs": [],
   "source": [
    "id_data = pd.concat((id_data,n),axis=1)"
   ]
  },
  {
   "cell_type": "code",
   "execution_count": null,
   "metadata": {
    "scrolled": false
   },
   "outputs": [],
   "source": [
    "id_data.head(10)"
   ]
  },
  {
   "cell_type": "code",
   "execution_count": null,
   "metadata": {},
   "outputs": [],
   "source": [
    "# MOST FREQUENT ABSENTEE\n",
    "plt.figure(figsize=(15,9))\n",
    "sns.countplot(x='ID',palette='muted',data=data)"
   ]
  },
  {
   "cell_type": "markdown",
   "metadata": {},
   "source": [
    "vERY HIGH = ID NO. 3 > 28 > 34\n",
    "LOWEST = ID NO. 4,35"
   ]
  },
  {
   "cell_type": "markdown",
   "metadata": {},
   "source": [
    "MOST HOURS ABSENT"
   ]
  },
  {
   "cell_type": "code",
   "execution_count": null,
   "metadata": {},
   "outputs": [],
   "source": [
    "\n",
    "plt.figure(figsize=(15,9))\n",
    "id_data['total_absent_time'].nlargest(15).plot(kind='barh')"
   ]
  },
  {
   "cell_type": "markdown",
   "metadata": {},
   "source": [
    "ID - 3,11,28,20 have maximum hours absent"
   ]
  },
  {
   "cell_type": "code",
   "execution_count": null,
   "metadata": {},
   "outputs": [],
   "source": [
    "#INspecting Employees with most absent\n",
    "id_data.iloc[2,:]"
   ]
  },
  {
   "cell_type": "markdown",
   "metadata": {},
   "source": [
    "FOR ID 3 DISTANCE =51. Mode--> reason= 27, month = 2, drinker=yes,smoker=no. Education=1"
   ]
  },
  {
   "cell_type": "code",
   "execution_count": null,
   "metadata": {},
   "outputs": [],
   "source": [
    "id_data.iloc[10,:]"
   ]
  },
  {
   "cell_type": "markdown",
   "metadata": {},
   "source": [
    "FOR ID 11. REASON- 19, EDU-1, SON-2. DRINKER= YES, SMOKER=NO.\n",
    "Rest looks normal"
   ]
  },
  {
   "cell_type": "code",
   "execution_count": null,
   "metadata": {},
   "outputs": [],
   "source": [
    "id_data.iloc[27,:]"
   ]
  },
  {
   "cell_type": "markdown",
   "metadata": {},
   "source": [
    "FOR ID 28:- REASON-23,SON-1,PET-2,DRINKER&SMOKER = NO, MONTH=2\n"
   ]
  },
  {
   "cell_type": "code",
   "execution_count": null,
   "metadata": {},
   "outputs": [],
   "source": [
    "id_data.iloc[19,:]"
   ]
  },
  {
   "cell_type": "markdown",
   "metadata": {},
   "source": [
    "ID - 20. distance=50, day=6, son=4, education=1, reason =28."
   ]
  },
  {
   "cell_type": "markdown",
   "metadata": {},
   "source": [
    "# ABSENTEEISM & REASON FOR ABSENCE"
   ]
  },
  {
   "cell_type": "code",
   "execution_count": null,
   "metadata": {},
   "outputs": [],
   "source": [
    "#MOST FREQUENT REASON FOR ABSENTEEISM\n",
    "plt.figure(figsize=(15,8))\n",
    "sns.countplot(x='reason',data=data)"
   ]
  },
  {
   "cell_type": "markdown",
   "metadata": {},
   "source": [
    "# REASON 23,28,27,13"
   ]
  },
  {
   "cell_type": "markdown",
   "metadata": {},
   "source": [
    "23 - medical consultation"
   ]
  },
  {
   "cell_type": "markdown",
   "metadata": {},
   "source": [
    "28-dental consultation"
   ]
  },
  {
   "cell_type": "markdown",
   "metadata": {},
   "source": [
    "27 - physiotherapy\n"
   ]
  },
  {
   "cell_type": "markdown",
   "metadata": {},
   "source": [
    "13-Diseases of the musculoskeletal system and connective tissue"
   ]
  },
  {
   "cell_type": "code",
   "execution_count": null,
   "metadata": {},
   "outputs": [],
   "source": [
    "re.sort_values(by='absent_time')"
   ]
  },
  {
   "cell_type": "code",
   "execution_count": null,
   "metadata": {},
   "outputs": [],
   "source": [
    "re= data.groupby([\"reason\"]).sum()[['absent_time']]"
   ]
  },
  {
   "cell_type": "code",
   "execution_count": null,
   "metadata": {},
   "outputs": [],
   "source": [
    "plt.figure(figsize=(15,9))\n",
    "re['absent_time'].nlargest(29).plot(kind='barh')"
   ]
  },
  {
   "cell_type": "markdown",
   "metadata": {},
   "source": [
    "Reason 23,13,28,22 & 19 have the maximum absent time"
   ]
  },
  {
   "cell_type": "markdown",
   "metadata": {},
   "source": [
    "TOTAL ABSENTEEISM TIME PER MONTH"
   ]
  },
  {
   "cell_type": "code",
   "execution_count": null,
   "metadata": {},
   "outputs": [],
   "source": [
    "m  = data.groupby(['month']).sum()[['absent_time']]\n",
    "plt.figure(figsize=(15,9))\n",
    "m['absent_time'].plot(kind='bar')"
   ]
  },
  {
   "cell_type": "markdown",
   "metadata": {},
   "source": [
    "MARCH HAS THE HIGHEST ABSENTEEISM, FOLLOWED BY JULY .\n",
    "JANUARY AND SEPTEMBER HAVE THE LEAST"
   ]
  },
  {
   "cell_type": "markdown",
   "metadata": {},
   "source": [
    "ABSENTEEISM BY DAY OF THE WEEK"
   ]
  },
  {
   "cell_type": "code",
   "execution_count": null,
   "metadata": {},
   "outputs": [],
   "source": [
    "D= data.groupby(['Day']).sum()[['absent_time']]\n",
    "plt.figure(figsize=(15,9))\n",
    "D['absent_time'].plot(kind='bar')"
   ]
  },
  {
   "cell_type": "markdown",
   "metadata": {},
   "source": [
    "MONDAY OBVIOUSLY HAS THE MAX. BUT THE TREND IS VERY MUCH THE SAME THROUGHOUT THE WEEK."
   ]
  },
  {
   "cell_type": "markdown",
   "metadata": {},
   "source": [
    "SEASON WISE ABSENTEEISM"
   ]
  },
  {
   "cell_type": "code",
   "execution_count": null,
   "metadata": {},
   "outputs": [],
   "source": [
    "S= data.groupby(['Seasons']).sum()[['absent_time']]\n",
    "plt.figure(figsize=(8,8))\n",
    "S['absent_time'].plot(kind='bar')"
   ]
  },
  {
   "cell_type": "markdown",
   "metadata": {},
   "source": [
    "ALL SEASONS HAVE SIMILAR VALUES"
   ]
  },
  {
   "cell_type": "code",
   "execution_count": null,
   "metadata": {},
   "outputs": [],
   "source": [
    "sns.countplot(x='Disciplinary failure',data=data)"
   ]
  },
  {
   "cell_type": "code",
   "execution_count": null,
   "metadata": {},
   "outputs": [],
   "source": [
    "data['Disciplinary failure'].value_counts()"
   ]
  },
  {
   "cell_type": "markdown",
   "metadata": {},
   "source": [
    "EDUCATION"
   ]
  },
  {
   "cell_type": "code",
   "execution_count": null,
   "metadata": {},
   "outputs": [],
   "source": [
    "sns.countplot(x='Education',data=data)"
   ]
  },
  {
   "cell_type": "code",
   "execution_count": null,
   "metadata": {},
   "outputs": [],
   "source": [
    "id_data['Education'].value_counts()"
   ]
  },
  {
   "cell_type": "code",
   "execution_count": null,
   "metadata": {},
   "outputs": [],
   "source": [
    "e = data.groupby(['Education']).sum()[['absent_time']]"
   ]
  },
  {
   "cell_type": "code",
   "execution_count": null,
   "metadata": {},
   "outputs": [],
   "source": [
    "e['absent_time'].plot(kind='barh')"
   ]
  },
  {
   "cell_type": "markdown",
   "metadata": {},
   "source": [
    "more than 80% instances are of employees having education 1. automatically they contribute to maximum absenteeism"
   ]
  },
  {
   "cell_type": "raw",
   "metadata": {},
   "source": [
    "SON"
   ]
  },
  {
   "cell_type": "code",
   "execution_count": null,
   "metadata": {},
   "outputs": [],
   "source": [
    "data.groupby(['Son']).sum()[['absent_time']]"
   ]
  },
  {
   "cell_type": "code",
   "execution_count": null,
   "metadata": {},
   "outputs": [],
   "source": [
    "id_data['Son'].value_counts()"
   ]
  },
  {
   "cell_type": "code",
   "execution_count": null,
   "metadata": {},
   "outputs": [],
   "source": [
    "sns.catplot(x='Son',y='absent_time',kind='bar',data=data)"
   ]
  },
  {
   "cell_type": "raw",
   "metadata": {},
   "source": [
    "SOCIAL DRINKER"
   ]
  },
  {
   "cell_type": "code",
   "execution_count": null,
   "metadata": {},
   "outputs": [],
   "source": [
    "id_data['Social drinker'].value_counts()"
   ]
  },
  {
   "cell_type": "code",
   "execution_count": null,
   "metadata": {},
   "outputs": [],
   "source": [
    "data.groupby(['Social drinker']).sum()[['absent_time']].plot(kind='bar')"
   ]
  },
  {
   "cell_type": "raw",
   "metadata": {},
   "source": [
    "SOCIAL SMOKER"
   ]
  },
  {
   "cell_type": "code",
   "execution_count": null,
   "metadata": {},
   "outputs": [],
   "source": [
    "id_data['Social smoker'].value_counts()"
   ]
  },
  {
   "cell_type": "code",
   "execution_count": null,
   "metadata": {},
   "outputs": [],
   "source": [
    "data.groupby(['Social smoker']).sum()[['absent_time']].plot(kind='barh')"
   ]
  },
  {
   "cell_type": "raw",
   "metadata": {},
   "source": [
    "PET"
   ]
  },
  {
   "cell_type": "code",
   "execution_count": null,
   "metadata": {},
   "outputs": [],
   "source": [
    "id_data['Pet'].value_counts()"
   ]
  },
  {
   "cell_type": "code",
   "execution_count": null,
   "metadata": {},
   "outputs": [],
   "source": [
    "data.groupby(['Pet']).sum()[['absent_time']].plot(kind='barh')"
   ]
  },
  {
   "cell_type": "markdown",
   "metadata": {},
   "source": [
    "# NUMERICAL FEATURES "
   ]
  },
  {
   "cell_type": "markdown",
   "metadata": {},
   "source": [
    "# HEATMAP"
   ]
  },
  {
   "cell_type": "code",
   "execution_count": null,
   "metadata": {},
   "outputs": [],
   "source": [
    "plt.figure(figsize=(12,8))\n",
    "\n",
    "sns.heatmap(data.corr(),annot=True,cbar = True,cmap=\"Blues\")"
   ]
  },
  {
   "cell_type": "code",
   "execution_count": null,
   "metadata": {},
   "outputs": [],
   "source": [
    "plt.figure(figsize=(12,8))\n",
    "\n",
    "sns.heatmap(id_data.corr(),annot=True,cbar = True,cmap=\"Blues\")"
   ]
  },
  {
   "cell_type": "code",
   "execution_count": null,
   "metadata": {},
   "outputs": [],
   "source": [
    "for i in cat:\n",
    "    id_data[i] = data[i].astype('category')"
   ]
  },
  {
   "cell_type": "markdown",
   "metadata": {},
   "source": [
    "AGE"
   ]
  },
  {
   "cell_type": "code",
   "execution_count": null,
   "metadata": {},
   "outputs": [],
   "source": [
    "sns.lmplot(x='Age',y=\"mean_absent_time\",data=id_data)"
   ]
  },
  {
   "cell_type": "code",
   "execution_count": null,
   "metadata": {},
   "outputs": [],
   "source": [
    "sns.lmplot(x='Age',y='total_absent_time',data=id_data)"
   ]
  },
  {
   "cell_type": "markdown",
   "metadata": {},
   "source": [
    "TOTAL ABSENTEEISM TIME IS DECREASING WITH INCREASING AGE"
   ]
  },
  {
   "cell_type": "markdown",
   "metadata": {},
   "source": [
    "SERVICE TIME"
   ]
  },
  {
   "cell_type": "code",
   "execution_count": null,
   "metadata": {},
   "outputs": [],
   "source": [
    "sns.lmplot(x='Service time',y=\"total_absent_time\",data=id_data)"
   ]
  },
  {
   "cell_type": "code",
   "execution_count": null,
   "metadata": {},
   "outputs": [],
   "source": [
    "sns.lmplot(x='Service time',y='mean_absent_time',data=id_data)"
   ]
  },
  {
   "cell_type": "markdown",
   "metadata": {},
   "source": [
    "TOTAL ABSENTEEISM TIME SHOWS A SLIGHT INCREASE WITH SERVICE TIME"
   ]
  },
  {
   "cell_type": "markdown",
   "metadata": {},
   "source": [
    "DISTANCE FROM WORK"
   ]
  },
  {
   "cell_type": "code",
   "execution_count": null,
   "metadata": {},
   "outputs": [],
   "source": [
    "sns.lmplot(x='distance',y='mean_absent_time',data=id_data)"
   ]
  },
  {
   "cell_type": "code",
   "execution_count": null,
   "metadata": {},
   "outputs": [],
   "source": [
    "sns.lmplot(x='distance',y='total_absent_time',data=id_data)"
   ]
  },
  {
   "cell_type": "markdown",
   "metadata": {},
   "source": [
    "TOTAL ABSENTEEISM TIME IS INCREASING WITH DISTANCE"
   ]
  },
  {
   "cell_type": "markdown",
   "metadata": {},
   "source": [
    "TRANSPORTATION EXPENSE"
   ]
  },
  {
   "cell_type": "code",
   "execution_count": null,
   "metadata": {},
   "outputs": [],
   "source": [
    "sns.lmplot(x='fare',y='mean_absent_time',data=id_data)"
   ]
  },
  {
   "cell_type": "code",
   "execution_count": null,
   "metadata": {},
   "outputs": [],
   "source": [
    "sns.lmplot(x='fare',y='total_absent_time',data=id_data)"
   ]
  },
  {
   "cell_type": "markdown",
   "metadata": {},
   "source": [
    "MEAN ABSENT TIME IS INCREASING WITH TRANSPORTATION EXPENSE"
   ]
  },
  {
   "cell_type": "markdown",
   "metadata": {},
   "source": [
    "BMI"
   ]
  },
  {
   "cell_type": "code",
   "execution_count": null,
   "metadata": {},
   "outputs": [],
   "source": [
    "sns.lmplot(x='bmi',y='mean_absent_time',data=id_data)"
   ]
  },
  {
   "cell_type": "code",
   "execution_count": null,
   "metadata": {},
   "outputs": [],
   "source": [
    "sns.lmplot(x='bmi',y='total_absent_time',data=id_data)"
   ]
  },
  {
   "cell_type": "markdown",
   "metadata": {},
   "source": [
    "MEAN ABSENT TIME SHOWS A DECREASING TREND WITH INCREASING BMI"
   ]
  },
  {
   "cell_type": "markdown",
   "metadata": {},
   "source": [
    "WORKLOAD AND HIT TARGET"
   ]
  },
  {
   "cell_type": "code",
   "execution_count": null,
   "metadata": {},
   "outputs": [],
   "source": [
    "sns.lmplot(x='workload',y='mean_absent_time',data=id_data)"
   ]
  },
  {
   "cell_type": "code",
   "execution_count": null,
   "metadata": {},
   "outputs": [],
   "source": [
    "sns.lmplot(x='workload',y='total_absent_time',data=id_data)"
   ]
  },
  {
   "cell_type": "code",
   "execution_count": null,
   "metadata": {},
   "outputs": [],
   "source": [
    "sns.lmplot(x='Hit target',y='mean_absent_time',data=id_data)"
   ]
  },
  {
   "cell_type": "code",
   "execution_count": null,
   "metadata": {},
   "outputs": [],
   "source": [
    "sns.lmplot(x='Hit target',y='total_absent_time',data=id_data)"
   ]
  },
  {
   "cell_type": "markdown",
   "metadata": {},
   "source": [
    "MEAN ABSENT TIME IS DECREASING WITH WORKLOAD WHILE IT INCREASES WITH HIT TARGET "
   ]
  },
  {
   "cell_type": "markdown",
   "metadata": {},
   "source": [
    "# CHI-SQUARE TEST"
   ]
  },
  {
   "cell_type": "code",
   "execution_count": null,
   "metadata": {},
   "outputs": [],
   "source": [
    "from scipy.stats import chi2_contingency"
   ]
  },
  {
   "cell_type": "code",
   "execution_count": null,
   "metadata": {},
   "outputs": [],
   "source": [
    "factors_paired = [(i,j) for i in cat for j in cat] \n",
    "chi2, p_values =[], []\n",
    "for f in factors_paired:\n",
    "    if f[0] != f[1]:\n",
    "        chitest = chi2_contingency(pd.crosstab(data[f[0]], data[f[1]]))\n",
    "        chi2.append(chitest[0])\n",
    "        p_values.append(chitest[1])\n",
    "    else:\n",
    "        chi2.append(0)\n",
    "        p_values.append(0)\n",
    "\n",
    "p1 = np.array(p_values).reshape((11,11))\n",
    "p1 = pd.DataFrame(p1, index=cat, columns=cat)\n",
    "p1"
   ]
  },
  {
   "cell_type": "markdown",
   "metadata": {},
   "source": [
    "P-VALUES LESS THAN 0.05:-"
   ]
  },
  {
   "cell_type": "markdown",
   "metadata": {},
   "source": [
    "1. ID WITH EDUCATION,PET AND SON "
   ]
  },
  {
   "cell_type": "markdown",
   "metadata": {},
   "source": [
    "2. MONTH AND SEASONS"
   ]
  },
  {
   "cell_type": "code",
   "execution_count": 20,
   "metadata": {},
   "outputs": [],
   "source": [
    "data2 = data.copy()"
   ]
  },
  {
   "cell_type": "markdown",
   "metadata": {},
   "source": [
    "# FEATURE SELECTION"
   ]
  },
  {
   "cell_type": "code",
   "execution_count": 21,
   "metadata": {},
   "outputs": [],
   "source": [
    "X= data.drop(['Education','Disciplinary failure','Seasons','fare','ID','Service time','workload','distance','Height'\n",
    "              ,'absent_time','Weight','Day'],axis=1)\n",
    "y = data[['absent_time']]"
   ]
  },
  {
   "cell_type": "code",
   "execution_count": 23,
   "metadata": {},
   "outputs": [],
   "source": [
    "c = [['Hit target','bmi','Age']]"
   ]
  },
  {
   "cell_type": "code",
   "execution_count": 24,
   "metadata": {},
   "outputs": [],
   "source": [
    "for i in range(len(data)):\n",
    "    if data2.loc[i,'reason'] < 10:\n",
    "        data2.loc[i,'reason'] = 1"
   ]
  },
  {
   "cell_type": "markdown",
   "metadata": {},
   "source": [
    "# FEATURE SCALING"
   ]
  },
  {
   "cell_type": "code",
   "execution_count": 25,
   "metadata": {},
   "outputs": [],
   "source": [
    "for i in c:\n",
    "    maxx = X[i].max()\n",
    "    minn = X[i].min()\n",
    "    \n",
    "    X[i] = (X[i] - minn)/(maxx - minn)"
   ]
  },
  {
   "cell_type": "code",
   "execution_count": null,
   "metadata": {},
   "outputs": [],
   "source": [
    "X.head()"
   ]
  },
  {
   "cell_type": "code",
   "execution_count": null,
   "metadata": {},
   "outputs": [],
   "source": [
    "y.head()"
   ]
  },
  {
   "cell_type": "code",
   "execution_count": null,
   "metadata": {},
   "outputs": [],
   "source": [
    " X.dtypes"
   ]
  },
  {
   "cell_type": "markdown",
   "metadata": {},
   "source": [
    "# LINEAR REGRESSION"
   ]
  },
  {
   "cell_type": "code",
   "execution_count": 26,
   "metadata": {},
   "outputs": [],
   "source": [
    "x1 = X.copy()"
   ]
  },
  {
   "cell_type": "code",
   "execution_count": null,
   "metadata": {},
   "outputs": [],
   "source": [
    "X.dtypes"
   ]
  },
  {
   "cell_type": "code",
   "execution_count": 27,
   "metadata": {},
   "outputs": [],
   "source": [
    "#ONE -HOT ENCODING\n",
    "dumm = ['reason','month','Son','Social smoker','Social drinker','Pet']\n",
    "for i in dumm:\n",
    "    X = pd.get_dummies(X,columns=[i],drop_first=True)"
   ]
  },
  {
   "cell_type": "code",
   "execution_count": 28,
   "metadata": {},
   "outputs": [],
   "source": [
    "x_train,x_test,y_train,y_test = train_test_split(X,y, test_size=0.25)"
   ]
  },
  {
   "cell_type": "code",
   "execution_count": 29,
   "metadata": {},
   "outputs": [],
   "source": [
    "import statsmodels.api as sm"
   ]
  },
  {
   "cell_type": "code",
   "execution_count": 30,
   "metadata": {},
   "outputs": [],
   "source": [
    "m= sm.OLS(y_train,x_train.astype(float)).fit()"
   ]
  },
  {
   "cell_type": "code",
   "execution_count": 31,
   "metadata": {
    "scrolled": false
   },
   "outputs": [
    {
     "data": {
      "text/html": [
       "<table class=\"simpletable\">\n",
       "<caption>OLS Regression Results</caption>\n",
       "<tr>\n",
       "  <th>Dep. Variable:</th>       <td>absent_time</td>   <th>  R-squared:         </th> <td>   0.787</td> \n",
       "</tr>\n",
       "<tr>\n",
       "  <th>Model:</th>                   <td>OLS</td>       <th>  Adj. R-squared:    </th> <td>   0.765</td> \n",
       "</tr>\n",
       "<tr>\n",
       "  <th>Method:</th>             <td>Least Squares</td>  <th>  F-statistic:       </th> <td>   35.66</td> \n",
       "</tr>\n",
       "<tr>\n",
       "  <th>Date:</th>             <td>Sat, 26 Jan 2019</td> <th>  Prob (F-statistic):</th> <td>1.13e-136</td>\n",
       "</tr>\n",
       "<tr>\n",
       "  <th>Time:</th>                 <td>16:48:32</td>     <th>  Log-Likelihood:    </th> <td> -1295.2</td> \n",
       "</tr>\n",
       "<tr>\n",
       "  <th>No. Observations:</th>      <td>   555</td>      <th>  AIC:               </th> <td>   2694.</td> \n",
       "</tr>\n",
       "<tr>\n",
       "  <th>Df Residuals:</th>          <td>   503</td>      <th>  BIC:               </th> <td>   2919.</td> \n",
       "</tr>\n",
       "<tr>\n",
       "  <th>Df Model:</th>              <td>    52</td>      <th>                     </th>     <td> </td>    \n",
       "</tr>\n",
       "<tr>\n",
       "  <th>Covariance Type:</th>      <td>nonrobust</td>    <th>                     </th>     <td> </td>    \n",
       "</tr>\n",
       "</table>\n",
       "<table class=\"simpletable\">\n",
       "<tr>\n",
       "           <td></td>             <th>coef</th>     <th>std err</th>      <th>t</th>      <th>P>|t|</th>  <th>[0.025</th>    <th>0.975]</th>  \n",
       "</tr>\n",
       "<tr>\n",
       "  <th>Age</th>                <td>   -2.4365</td> <td>    0.787</td> <td>   -3.097</td> <td> 0.002</td> <td>   -3.982</td> <td>   -0.891</td>\n",
       "</tr>\n",
       "<tr>\n",
       "  <th>Hit target</th>         <td>   -0.0438</td> <td>    0.706</td> <td>   -0.062</td> <td> 0.951</td> <td>   -1.431</td> <td>    1.344</td>\n",
       "</tr>\n",
       "<tr>\n",
       "  <th>bmi</th>                <td>    1.1270</td> <td>    0.760</td> <td>    1.484</td> <td> 0.139</td> <td>   -0.366</td> <td>    2.620</td>\n",
       "</tr>\n",
       "<tr>\n",
       "  <th>reason_1.0</th>         <td>    7.9764</td> <td>    0.877</td> <td>    9.099</td> <td> 0.000</td> <td>    6.254</td> <td>    9.699</td>\n",
       "</tr>\n",
       "<tr>\n",
       "  <th>reason_2.0</th>         <td> 7.074e-15</td> <td> 3.56e-15</td> <td>    1.986</td> <td> 0.048</td> <td> 7.47e-17</td> <td> 1.41e-14</td>\n",
       "</tr>\n",
       "<tr>\n",
       "  <th>reason_3.0</th>         <td>    8.7133</td> <td>    2.754</td> <td>    3.164</td> <td> 0.002</td> <td>    3.302</td> <td>   14.125</td>\n",
       "</tr>\n",
       "<tr>\n",
       "  <th>reason_4.0</th>         <td>    5.5715</td> <td>    2.010</td> <td>    2.771</td> <td> 0.006</td> <td>    1.622</td> <td>    9.521</td>\n",
       "</tr>\n",
       "<tr>\n",
       "  <th>reason_5.0</th>         <td>    6.5060</td> <td>    1.946</td> <td>    3.343</td> <td> 0.001</td> <td>    2.682</td> <td>   10.330</td>\n",
       "</tr>\n",
       "<tr>\n",
       "  <th>reason_6.0</th>         <td>    7.3002</td> <td>    1.213</td> <td>    6.017</td> <td> 0.000</td> <td>    4.917</td> <td>    9.684</td>\n",
       "</tr>\n",
       "<tr>\n",
       "  <th>reason_7.0</th>         <td>    4.2805</td> <td>    1.011</td> <td>    4.233</td> <td> 0.000</td> <td>    2.294</td> <td>    6.267</td>\n",
       "</tr>\n",
       "<tr>\n",
       "  <th>reason_8.0</th>         <td>    5.3567</td> <td>    1.193</td> <td>    4.491</td> <td> 0.000</td> <td>    3.014</td> <td>    7.700</td>\n",
       "</tr>\n",
       "<tr>\n",
       "  <th>reason_9.0</th>         <td>    6.2778</td> <td>    1.950</td> <td>    3.219</td> <td> 0.001</td> <td>    2.446</td> <td>   10.110</td>\n",
       "</tr>\n",
       "<tr>\n",
       "  <th>reason_10.0</th>        <td>    6.4802</td> <td>    0.783</td> <td>    8.272</td> <td> 0.000</td> <td>    4.941</td> <td>    8.019</td>\n",
       "</tr>\n",
       "<tr>\n",
       "  <th>reason_11.0</th>        <td>    5.4329</td> <td>    0.754</td> <td>    7.208</td> <td> 0.000</td> <td>    3.952</td> <td>    6.914</td>\n",
       "</tr>\n",
       "<tr>\n",
       "  <th>reason_12.0</th>        <td>    5.0561</td> <td>    1.217</td> <td>    4.153</td> <td> 0.000</td> <td>    2.664</td> <td>    7.448</td>\n",
       "</tr>\n",
       "<tr>\n",
       "  <th>reason_13.0</th>        <td>    6.0505</td> <td>    0.645</td> <td>    9.376</td> <td> 0.000</td> <td>    4.783</td> <td>    7.318</td>\n",
       "</tr>\n",
       "<tr>\n",
       "  <th>reason_14.0</th>        <td>    5.1696</td> <td>    0.875</td> <td>    5.909</td> <td> 0.000</td> <td>    3.451</td> <td>    6.889</td>\n",
       "</tr>\n",
       "<tr>\n",
       "  <th>reason_15.0</th>        <td>    7.8203</td> <td>    1.965</td> <td>    3.980</td> <td> 0.000</td> <td>    3.960</td> <td>   11.680</td>\n",
       "</tr>\n",
       "<tr>\n",
       "  <th>reason_16.0</th>        <td>    2.1749</td> <td>    1.952</td> <td>    1.114</td> <td> 0.266</td> <td>   -1.660</td> <td>    6.010</td>\n",
       "</tr>\n",
       "<tr>\n",
       "  <th>reason_17.0</th>        <td>    7.3266</td> <td>    2.726</td> <td>    2.688</td> <td> 0.007</td> <td>    1.971</td> <td>   12.682</td>\n",
       "</tr>\n",
       "<tr>\n",
       "  <th>reason_18.0</th>        <td>    6.3968</td> <td>    0.889</td> <td>    7.194</td> <td> 0.000</td> <td>    4.650</td> <td>    8.144</td>\n",
       "</tr>\n",
       "<tr>\n",
       "  <th>reason_19.0</th>        <td>    6.5911</td> <td>    0.715</td> <td>    9.220</td> <td> 0.000</td> <td>    5.187</td> <td>    7.996</td>\n",
       "</tr>\n",
       "<tr>\n",
       "  <th>reason_21.0</th>        <td>    5.6870</td> <td>    1.297</td> <td>    4.383</td> <td> 0.000</td> <td>    3.138</td> <td>    8.236</td>\n",
       "</tr>\n",
       "<tr>\n",
       "  <th>reason_22.0</th>        <td>    6.9851</td> <td>    0.742</td> <td>    9.415</td> <td> 0.000</td> <td>    5.528</td> <td>    8.443</td>\n",
       "</tr>\n",
       "<tr>\n",
       "  <th>reason_23.0</th>        <td>    2.9529</td> <td>    0.545</td> <td>    5.415</td> <td> 0.000</td> <td>    1.881</td> <td>    4.024</td>\n",
       "</tr>\n",
       "<tr>\n",
       "  <th>reason_24.0</th>        <td>    7.4505</td> <td>    1.643</td> <td>    4.536</td> <td> 0.000</td> <td>    4.223</td> <td>   10.678</td>\n",
       "</tr>\n",
       "<tr>\n",
       "  <th>reason_25.0</th>        <td>    3.7532</td> <td>    0.752</td> <td>    4.994</td> <td> 0.000</td> <td>    2.277</td> <td>    5.230</td>\n",
       "</tr>\n",
       "<tr>\n",
       "  <th>reason_26.0</th>        <td>    7.4535</td> <td>    0.722</td> <td>   10.319</td> <td> 0.000</td> <td>    6.034</td> <td>    8.873</td>\n",
       "</tr>\n",
       "<tr>\n",
       "  <th>reason_27.0</th>        <td>    2.0229</td> <td>    0.670</td> <td>    3.018</td> <td> 0.003</td> <td>    0.706</td> <td>    3.340</td>\n",
       "</tr>\n",
       "<tr>\n",
       "  <th>reason_28.0</th>        <td>    2.6006</td> <td>    0.573</td> <td>    4.537</td> <td> 0.000</td> <td>    1.475</td> <td>    3.727</td>\n",
       "</tr>\n",
       "<tr>\n",
       "  <th>month_1.0</th>          <td>   -0.1383</td> <td>    0.916</td> <td>   -0.151</td> <td> 0.880</td> <td>   -1.938</td> <td>    1.661</td>\n",
       "</tr>\n",
       "<tr>\n",
       "  <th>month_2.0</th>          <td>    0.3010</td> <td>    0.904</td> <td>    0.333</td> <td> 0.739</td> <td>   -1.475</td> <td>    2.077</td>\n",
       "</tr>\n",
       "<tr>\n",
       "  <th>month_3.0</th>          <td>    0.9794</td> <td>    0.882</td> <td>    1.111</td> <td> 0.267</td> <td>   -0.753</td> <td>    2.712</td>\n",
       "</tr>\n",
       "<tr>\n",
       "  <th>month_4.0</th>          <td>    0.1987</td> <td>    0.854</td> <td>    0.233</td> <td> 0.816</td> <td>   -1.479</td> <td>    1.877</td>\n",
       "</tr>\n",
       "<tr>\n",
       "  <th>month_5.0</th>          <td>   -0.1029</td> <td>    0.884</td> <td>   -0.116</td> <td> 0.907</td> <td>   -1.840</td> <td>    1.634</td>\n",
       "</tr>\n",
       "<tr>\n",
       "  <th>month_6.0</th>          <td>   -0.0944</td> <td>    0.834</td> <td>   -0.113</td> <td> 0.910</td> <td>   -1.732</td> <td>    1.544</td>\n",
       "</tr>\n",
       "<tr>\n",
       "  <th>month_7.0</th>          <td>   -0.4715</td> <td>    0.824</td> <td>   -0.572</td> <td> 0.568</td> <td>   -2.091</td> <td>    1.148</td>\n",
       "</tr>\n",
       "<tr>\n",
       "  <th>month_8.0</th>          <td>    0.2197</td> <td>    0.816</td> <td>    0.269</td> <td> 0.788</td> <td>   -1.384</td> <td>    1.823</td>\n",
       "</tr>\n",
       "<tr>\n",
       "  <th>month_9.0</th>          <td>    0.0768</td> <td>    0.740</td> <td>    0.104</td> <td> 0.917</td> <td>   -1.377</td> <td>    1.531</td>\n",
       "</tr>\n",
       "<tr>\n",
       "  <th>month_10.0</th>         <td>    0.1067</td> <td>    0.684</td> <td>    0.156</td> <td> 0.876</td> <td>   -1.236</td> <td>    1.450</td>\n",
       "</tr>\n",
       "<tr>\n",
       "  <th>month_11.0</th>         <td>   -0.1056</td> <td>    0.789</td> <td>   -0.134</td> <td> 0.894</td> <td>   -1.655</td> <td>    1.444</td>\n",
       "</tr>\n",
       "<tr>\n",
       "  <th>month_12.0</th>         <td>    0.0903</td> <td>    0.879</td> <td>    0.103</td> <td> 0.918</td> <td>   -1.636</td> <td>    1.817</td>\n",
       "</tr>\n",
       "<tr>\n",
       "  <th>Son_1.0</th>            <td>   -0.0379</td> <td>    0.458</td> <td>   -0.083</td> <td> 0.934</td> <td>   -0.938</td> <td>    0.862</td>\n",
       "</tr>\n",
       "<tr>\n",
       "  <th>Son_2.0</th>            <td>    0.0301</td> <td>    0.509</td> <td>    0.059</td> <td> 0.953</td> <td>   -0.969</td> <td>    1.029</td>\n",
       "</tr>\n",
       "<tr>\n",
       "  <th>Son_3.0</th>            <td>    0.0498</td> <td>    0.777</td> <td>    0.064</td> <td> 0.949</td> <td>   -1.477</td> <td>    1.577</td>\n",
       "</tr>\n",
       "<tr>\n",
       "  <th>Son_4.0</th>            <td>    1.0817</td> <td>    0.577</td> <td>    1.875</td> <td> 0.061</td> <td>   -0.052</td> <td>    2.215</td>\n",
       "</tr>\n",
       "<tr>\n",
       "  <th>Social smoker_1.0</th>  <td>    0.7312</td> <td>    0.616</td> <td>    1.187</td> <td> 0.236</td> <td>   -0.479</td> <td>    1.942</td>\n",
       "</tr>\n",
       "<tr>\n",
       "  <th>Social drinker_1.0</th> <td>    0.5247</td> <td>    0.316</td> <td>    1.660</td> <td> 0.097</td> <td>   -0.096</td> <td>    1.146</td>\n",
       "</tr>\n",
       "<tr>\n",
       "  <th>Pet_1.0</th>            <td>   -0.1557</td> <td>    0.445</td> <td>   -0.350</td> <td> 0.727</td> <td>   -1.030</td> <td>    0.719</td>\n",
       "</tr>\n",
       "<tr>\n",
       "  <th>Pet_2.0</th>            <td>   -0.7031</td> <td>    0.628</td> <td>   -1.120</td> <td> 0.263</td> <td>   -1.936</td> <td>    0.530</td>\n",
       "</tr>\n",
       "<tr>\n",
       "  <th>Pet_4.0</th>            <td>    0.1489</td> <td>    0.763</td> <td>    0.195</td> <td> 0.845</td> <td>   -1.349</td> <td>    1.647</td>\n",
       "</tr>\n",
       "<tr>\n",
       "  <th>Pet_5.0</th>            <td>    1.5258</td> <td>    1.351</td> <td>    1.129</td> <td> 0.259</td> <td>   -1.129</td> <td>    4.181</td>\n",
       "</tr>\n",
       "<tr>\n",
       "  <th>Pet_8.0</th>            <td>   -1.4796</td> <td>    1.212</td> <td>   -1.220</td> <td> 0.223</td> <td>   -3.862</td> <td>    0.903</td>\n",
       "</tr>\n",
       "</table>\n",
       "<table class=\"simpletable\">\n",
       "<tr>\n",
       "  <th>Omnibus:</th>       <td>178.051</td> <th>  Durbin-Watson:     </th> <td>   1.989</td> \n",
       "</tr>\n",
       "<tr>\n",
       "  <th>Prob(Omnibus):</th> <td> 0.000</td>  <th>  Jarque-Bera (JB):  </th> <td> 763.495</td> \n",
       "</tr>\n",
       "<tr>\n",
       "  <th>Skew:</th>          <td> 1.393</td>  <th>  Prob(JB):          </th> <td>1.62e-166</td>\n",
       "</tr>\n",
       "<tr>\n",
       "  <th>Kurtosis:</th>      <td> 8.025</td>  <th>  Cond. No.          </th> <td>2.25e+15</td> \n",
       "</tr>\n",
       "</table><br/><br/>Warnings:<br/>[1] Standard Errors assume that the covariance matrix of the errors is correctly specified.<br/>[2] The smallest eigenvalue is 1.68e-28. This might indicate that there are<br/>strong multicollinearity problems or that the design matrix is singular."
      ],
      "text/plain": [
       "<class 'statsmodels.iolib.summary.Summary'>\n",
       "\"\"\"\n",
       "                            OLS Regression Results                            \n",
       "==============================================================================\n",
       "Dep. Variable:            absent_time   R-squared:                       0.787\n",
       "Model:                            OLS   Adj. R-squared:                  0.765\n",
       "Method:                 Least Squares   F-statistic:                     35.66\n",
       "Date:                Sat, 26 Jan 2019   Prob (F-statistic):          1.13e-136\n",
       "Time:                        16:48:32   Log-Likelihood:                -1295.2\n",
       "No. Observations:                 555   AIC:                             2694.\n",
       "Df Residuals:                     503   BIC:                             2919.\n",
       "Df Model:                          52                                         \n",
       "Covariance Type:            nonrobust                                         \n",
       "======================================================================================\n",
       "                         coef    std err          t      P>|t|      [0.025      0.975]\n",
       "--------------------------------------------------------------------------------------\n",
       "Age                   -2.4365      0.787     -3.097      0.002      -3.982      -0.891\n",
       "Hit target            -0.0438      0.706     -0.062      0.951      -1.431       1.344\n",
       "bmi                    1.1270      0.760      1.484      0.139      -0.366       2.620\n",
       "reason_1.0             7.9764      0.877      9.099      0.000       6.254       9.699\n",
       "reason_2.0          7.074e-15   3.56e-15      1.986      0.048    7.47e-17    1.41e-14\n",
       "reason_3.0             8.7133      2.754      3.164      0.002       3.302      14.125\n",
       "reason_4.0             5.5715      2.010      2.771      0.006       1.622       9.521\n",
       "reason_5.0             6.5060      1.946      3.343      0.001       2.682      10.330\n",
       "reason_6.0             7.3002      1.213      6.017      0.000       4.917       9.684\n",
       "reason_7.0             4.2805      1.011      4.233      0.000       2.294       6.267\n",
       "reason_8.0             5.3567      1.193      4.491      0.000       3.014       7.700\n",
       "reason_9.0             6.2778      1.950      3.219      0.001       2.446      10.110\n",
       "reason_10.0            6.4802      0.783      8.272      0.000       4.941       8.019\n",
       "reason_11.0            5.4329      0.754      7.208      0.000       3.952       6.914\n",
       "reason_12.0            5.0561      1.217      4.153      0.000       2.664       7.448\n",
       "reason_13.0            6.0505      0.645      9.376      0.000       4.783       7.318\n",
       "reason_14.0            5.1696      0.875      5.909      0.000       3.451       6.889\n",
       "reason_15.0            7.8203      1.965      3.980      0.000       3.960      11.680\n",
       "reason_16.0            2.1749      1.952      1.114      0.266      -1.660       6.010\n",
       "reason_17.0            7.3266      2.726      2.688      0.007       1.971      12.682\n",
       "reason_18.0            6.3968      0.889      7.194      0.000       4.650       8.144\n",
       "reason_19.0            6.5911      0.715      9.220      0.000       5.187       7.996\n",
       "reason_21.0            5.6870      1.297      4.383      0.000       3.138       8.236\n",
       "reason_22.0            6.9851      0.742      9.415      0.000       5.528       8.443\n",
       "reason_23.0            2.9529      0.545      5.415      0.000       1.881       4.024\n",
       "reason_24.0            7.4505      1.643      4.536      0.000       4.223      10.678\n",
       "reason_25.0            3.7532      0.752      4.994      0.000       2.277       5.230\n",
       "reason_26.0            7.4535      0.722     10.319      0.000       6.034       8.873\n",
       "reason_27.0            2.0229      0.670      3.018      0.003       0.706       3.340\n",
       "reason_28.0            2.6006      0.573      4.537      0.000       1.475       3.727\n",
       "month_1.0             -0.1383      0.916     -0.151      0.880      -1.938       1.661\n",
       "month_2.0              0.3010      0.904      0.333      0.739      -1.475       2.077\n",
       "month_3.0              0.9794      0.882      1.111      0.267      -0.753       2.712\n",
       "month_4.0              0.1987      0.854      0.233      0.816      -1.479       1.877\n",
       "month_5.0             -0.1029      0.884     -0.116      0.907      -1.840       1.634\n",
       "month_6.0             -0.0944      0.834     -0.113      0.910      -1.732       1.544\n",
       "month_7.0             -0.4715      0.824     -0.572      0.568      -2.091       1.148\n",
       "month_8.0              0.2197      0.816      0.269      0.788      -1.384       1.823\n",
       "month_9.0              0.0768      0.740      0.104      0.917      -1.377       1.531\n",
       "month_10.0             0.1067      0.684      0.156      0.876      -1.236       1.450\n",
       "month_11.0            -0.1056      0.789     -0.134      0.894      -1.655       1.444\n",
       "month_12.0             0.0903      0.879      0.103      0.918      -1.636       1.817\n",
       "Son_1.0               -0.0379      0.458     -0.083      0.934      -0.938       0.862\n",
       "Son_2.0                0.0301      0.509      0.059      0.953      -0.969       1.029\n",
       "Son_3.0                0.0498      0.777      0.064      0.949      -1.477       1.577\n",
       "Son_4.0                1.0817      0.577      1.875      0.061      -0.052       2.215\n",
       "Social smoker_1.0      0.7312      0.616      1.187      0.236      -0.479       1.942\n",
       "Social drinker_1.0     0.5247      0.316      1.660      0.097      -0.096       1.146\n",
       "Pet_1.0               -0.1557      0.445     -0.350      0.727      -1.030       0.719\n",
       "Pet_2.0               -0.7031      0.628     -1.120      0.263      -1.936       0.530\n",
       "Pet_4.0                0.1489      0.763      0.195      0.845      -1.349       1.647\n",
       "Pet_5.0                1.5258      1.351      1.129      0.259      -1.129       4.181\n",
       "Pet_8.0               -1.4796      1.212     -1.220      0.223      -3.862       0.903\n",
       "==============================================================================\n",
       "Omnibus:                      178.051   Durbin-Watson:                   1.989\n",
       "Prob(Omnibus):                  0.000   Jarque-Bera (JB):              763.495\n",
       "Skew:                           1.393   Prob(JB):                    1.62e-166\n",
       "Kurtosis:                       8.025   Cond. No.                     2.25e+15\n",
       "==============================================================================\n",
       "\n",
       "Warnings:\n",
       "[1] Standard Errors assume that the covariance matrix of the errors is correctly specified.\n",
       "[2] The smallest eigenvalue is 1.68e-28. This might indicate that there are\n",
       "strong multicollinearity problems or that the design matrix is singular.\n",
       "\"\"\""
      ]
     },
     "execution_count": 31,
     "metadata": {},
     "output_type": "execute_result"
    }
   ],
   "source": [
    "m.summary()"
   ]
  },
  {
   "cell_type": "code",
   "execution_count": 32,
   "metadata": {},
   "outputs": [],
   "source": [
    "p = m.predict(x_test)"
   ]
  },
  {
   "cell_type": "code",
   "execution_count": 33,
   "metadata": {},
   "outputs": [
    {
     "data": {
      "text/plain": [
       "2.749273624310285"
      ]
     },
     "execution_count": 33,
     "metadata": {},
     "output_type": "execute_result"
    }
   ],
   "source": [
    "np.sqrt(mean_squared_error(y_test,p))\n"
   ]
  },
  {
   "cell_type": "markdown",
   "metadata": {},
   "source": [
    "# RANDOM FOREST"
   ]
  },
  {
   "cell_type": "code",
   "execution_count": 34,
   "metadata": {},
   "outputs": [],
   "source": [
    "x_train,x_test,y_train,y_test = train_test_split(x1,y, test_size=0.25)"
   ]
  },
  {
   "cell_type": "code",
   "execution_count": 35,
   "metadata": {},
   "outputs": [
    {
     "name": "stderr",
     "output_type": "stream",
     "text": [
      "C:\\Users\\Ataf\\Anaconda3\\lib\\site-packages\\ipykernel_launcher.py:3: DataConversionWarning: A column-vector y was passed when a 1d array was expected. Please change the shape of y to (n_samples,), for example using ravel().\n",
      "  This is separate from the ipykernel package so we can avoid doing imports until\n"
     ]
    },
    {
     "data": {
      "text/plain": [
       "RandomForestRegressor(bootstrap=True, criterion='mse', max_depth=30,\n",
       "           max_features='auto', max_leaf_nodes=None,\n",
       "           min_impurity_decrease=0.0, min_impurity_split=None,\n",
       "           min_samples_leaf=1, min_samples_split=2,\n",
       "           min_weight_fraction_leaf=0.0, n_estimators=300, n_jobs=1,\n",
       "           oob_score=True, random_state=42, verbose=0, warm_start=False)"
      ]
     },
     "execution_count": 35,
     "metadata": {},
     "output_type": "execute_result"
    }
   ],
   "source": [
    "rf = RandomForestRegressor(n_estimators = 300,bootstrap=True,max_depth=30,oob_score=True, random_state = 42)\n",
    "# Train the model on training data\n",
    "rf.fit(x_train, y_train)"
   ]
  },
  {
   "cell_type": "code",
   "execution_count": 36,
   "metadata": {},
   "outputs": [],
   "source": [
    "p =rf.predict(x_test)"
   ]
  },
  {
   "cell_type": "code",
   "execution_count": 37,
   "metadata": {},
   "outputs": [
    {
     "data": {
      "text/plain": [
       "0.8254173239370584"
      ]
     },
     "execution_count": 37,
     "metadata": {},
     "output_type": "execute_result"
    }
   ],
   "source": [
    "rf.score(x_train,y_train)"
   ]
  },
  {
   "cell_type": "code",
   "execution_count": 38,
   "metadata": {},
   "outputs": [
    {
     "data": {
      "text/plain": [
       "2.260383150765134"
      ]
     },
     "execution_count": 38,
     "metadata": {},
     "output_type": "execute_result"
    }
   ],
   "source": [
    "np.sqrt(mean_squared_error(y_test,p))"
   ]
  },
  {
   "cell_type": "code",
   "execution_count": 39,
   "metadata": {},
   "outputs": [
    {
     "data": {
      "text/plain": [
       "<matplotlib.axes._subplots.AxesSubplot at 0x22837a02668>"
      ]
     },
     "execution_count": 39,
     "metadata": {},
     "output_type": "execute_result"
    },
    {
     "data": {
      "image/png": "[encoded data removed]",
      "text/plain": [
       "<Figure size 720x576 with 1 Axes>"
      ]
     },
     "metadata": {},
     "output_type": "display_data"
    }
   ],
   "source": [
    "feat_importances = pd.Series(rf.feature_importances_*100, index=x_train.columns)\n",
    "feat_importances.nlargest(18).plot(kind='barh',figsize=(10,8))"
   ]
  },
  {
   "cell_type": "code",
   "execution_count": 40,
   "metadata": {},
   "outputs": [
    {
     "data": {
      "image/png": "[encoded data removed]",
      "text/plain": [
       "<Figure size 432x288 with 1 Axes>"
      ]
     },
     "metadata": {},
     "output_type": "display_data"
    }
   ],
   "source": [
    "plt.scatter(y_test,p)\n",
    "plt.xlabel(\"TrueValues\")\n",
    "plt.ylabel(\"Predictedvalues\")\n",
    "plt.show()"
   ]
  },
  {
   "cell_type": "markdown",
   "metadata": {},
   "source": [
    "we assume that the employees work 8 hours a day"
   ]
  },
  {
   "cell_type": "code",
   "execution_count": 43,
   "metadata": {},
   "outputs": [
    {
     "name": "stderr",
     "output_type": "stream",
     "text": [
      "C:\\Users\\Ataf\\Anaconda3\\lib\\site-packages\\ipykernel_launcher.py:4: SettingWithCopyWarning: \n",
      "A value is trying to be set on a copy of a slice from a DataFrame.\n",
      "Try using .loc[row_indexer,col_indexer] = value instead\n",
      "\n",
      "See the caveats in the documentation: http://pandas.pydata.org/pandas-docs/stable/indexing.html#indexing-view-versus-copy\n",
      "  after removing the cwd from sys.path.\n",
      "C:\\Users\\Ataf\\Anaconda3\\lib\\site-packages\\ipykernel_launcher.py:6: SettingWithCopyWarning: \n",
      "A value is trying to be set on a copy of a slice from a DataFrame.\n",
      "Try using .loc[row_indexer,col_indexer] = value instead\n",
      "\n",
      "See the caveats in the documentation: http://pandas.pydata.org/pandas-docs/stable/indexing.html#indexing-view-versus-copy\n",
      "  \n"
     ]
    },
    {
     "data": {
      "text/html": [
       "<div>\n",
       "<style scoped>\n",
       "    .dataframe tbody tr th:only-of-type {\n",
       "        vertical-align: middle;\n",
       "    }\n",
       "\n",
       "    .dataframe tbody tr th {\n",
       "        vertical-align: top;\n",
       "    }\n",
       "\n",
       "    .dataframe thead th {\n",
       "        text-align: right;\n",
       "    }\n",
       "</style>\n",
       "<table border=\"1\" class=\"dataframe\">\n",
       "  <thead>\n",
       "    <tr style=\"text-align: right;\">\n",
       "      <th></th>\n",
       "      <th>month</th>\n",
       "      <th>workload</th>\n",
       "      <th>absent_time</th>\n",
       "      <th>Loss</th>\n",
       "    </tr>\n",
       "  </thead>\n",
       "  <tbody>\n",
       "    <tr>\n",
       "      <th>0</th>\n",
       "      <td>7.0</td>\n",
       "      <td>239554.0</td>\n",
       "      <td>4.0</td>\n",
       "      <td>119777</td>\n",
       "    </tr>\n",
       "    <tr>\n",
       "      <th>1</th>\n",
       "      <td>7.0</td>\n",
       "      <td>239554.0</td>\n",
       "      <td>0.0</td>\n",
       "      <td>0</td>\n",
       "    </tr>\n",
       "    <tr>\n",
       "      <th>2</th>\n",
       "      <td>7.0</td>\n",
       "      <td>239554.0</td>\n",
       "      <td>2.0</td>\n",
       "      <td>59888</td>\n",
       "    </tr>\n",
       "    <tr>\n",
       "      <th>3</th>\n",
       "      <td>7.0</td>\n",
       "      <td>239554.0</td>\n",
       "      <td>4.0</td>\n",
       "      <td>119777</td>\n",
       "    </tr>\n",
       "    <tr>\n",
       "      <th>4</th>\n",
       "      <td>7.0</td>\n",
       "      <td>239554.0</td>\n",
       "      <td>2.0</td>\n",
       "      <td>59888</td>\n",
       "    </tr>\n",
       "  </tbody>\n",
       "</table>\n",
       "</div>"
      ],
      "text/plain": [
       "  month  workload  absent_time    Loss\n",
       "0   7.0  239554.0          4.0  119777\n",
       "1   7.0  239554.0          0.0       0\n",
       "2   7.0  239554.0          2.0   59888\n",
       "3   7.0  239554.0          4.0  119777\n",
       "4   7.0  239554.0          2.0   59888"
      ]
     },
     "execution_count": 43,
     "metadata": {},
     "output_type": "execute_result"
    }
   ],
   "source": [
    "#LOSSES EVERY MONTH\n",
    "new = data[['month','workload','absent_time']]\n",
    "\n",
    "new[\"Loss\"]=(new['workload']*new['absent_time'])/8\n",
    "\n",
    "new[\"Loss\"] = np.round(new[\"Loss\"]).astype('int64')\n",
    "\n",
    "new.head()\n",
    "\n"
   ]
  },
  {
   "cell_type": "code",
   "execution_count": 44,
   "metadata": {},
   "outputs": [
    {
     "data": {
      "text/html": [
       "<div>\n",
       "<style scoped>\n",
       "    .dataframe tbody tr th:only-of-type {\n",
       "        vertical-align: middle;\n",
       "    }\n",
       "\n",
       "    .dataframe tbody tr th {\n",
       "        vertical-align: top;\n",
       "    }\n",
       "\n",
       "    .dataframe thead th {\n",
       "        text-align: right;\n",
       "    }\n",
       "</style>\n",
       "<table border=\"1\" class=\"dataframe\">\n",
       "  <thead>\n",
       "    <tr style=\"text-align: right;\">\n",
       "      <th></th>\n",
       "      <th>Work Load Loss/Month</th>\n",
       "    </tr>\n",
       "  </thead>\n",
       "  <tbody>\n",
       "    <tr>\n",
       "      <th>No Absent</th>\n",
       "      <td>0</td>\n",
       "    </tr>\n",
       "    <tr>\n",
       "      <th>Janaury</th>\n",
       "      <td>6778161</td>\n",
       "    </tr>\n",
       "    <tr>\n",
       "      <th>Febraury</th>\n",
       "      <td>9302313</td>\n",
       "    </tr>\n",
       "    <tr>\n",
       "      <th>March</th>\n",
       "      <td>15454922</td>\n",
       "    </tr>\n",
       "    <tr>\n",
       "      <th>April</th>\n",
       "      <td>7751790</td>\n",
       "    </tr>\n",
       "    <tr>\n",
       "      <th>May</th>\n",
       "      <td>7734901</td>\n",
       "    </tr>\n",
       "    <tr>\n",
       "      <th>June</th>\n",
       "      <td>7751274</td>\n",
       "    </tr>\n",
       "    <tr>\n",
       "      <th>July</th>\n",
       "      <td>11401779</td>\n",
       "    </tr>\n",
       "    <tr>\n",
       "      <th>August</th>\n",
       "      <td>7414786</td>\n",
       "    </tr>\n",
       "    <tr>\n",
       "      <th>September</th>\n",
       "      <td>5917447</td>\n",
       "    </tr>\n",
       "    <tr>\n",
       "      <th>October</th>\n",
       "      <td>9537086</td>\n",
       "    </tr>\n",
       "    <tr>\n",
       "      <th>November</th>\n",
       "      <td>9089094</td>\n",
       "    </tr>\n",
       "    <tr>\n",
       "      <th>December</th>\n",
       "      <td>6461895</td>\n",
       "    </tr>\n",
       "  </tbody>\n",
       "</table>\n",
       "</div>"
      ],
      "text/plain": [
       "           Work Load Loss/Month\n",
       "No Absent                     0\n",
       "Janaury                 6778161\n",
       "Febraury                9302313\n",
       "March                  15454922\n",
       "April                   7751790\n",
       "May                     7734901\n",
       "June                    7751274\n",
       "July                   11401779\n",
       "August                  7414786\n",
       "September               5917447\n",
       "October                 9537086\n",
       "November                9089094\n",
       "December                6461895"
      ]
     },
     "execution_count": 44,
     "metadata": {},
     "output_type": "execute_result"
    }
   ],
   "source": [
    "No_absent = new[new['month'] == 0]['Loss'].sum()\n",
    "January = new[new['month'] == 1]['Loss'].sum()\n",
    "February = new[new['month'] == 2]['Loss'].sum()\n",
    "March = new[new['month'] == 3]['Loss'].sum()\n",
    "April = new[new['month'] == 4]['Loss'].sum()\n",
    "May = new[new['month'] == 5]['Loss'].sum()\n",
    "June = new[new['month'] == 6]['Loss'].sum()\n",
    "July = new[new['month'] == 7]['Loss'].sum()\n",
    "August = new[new['month'] == 8]['Loss'].sum()\n",
    "September = new[new['month'] == 9]['Loss'].sum()\n",
    "October = new[new['month'] == 10]['Loss'].sum()\n",
    "November = new[new['month'] == 11]['Loss'].sum()\n",
    "December = new[new['month'] == 12]['Loss'].sum()\n",
    "\n",
    "record = {'No Absent': No_absent, 'Janaury': January,'Febraury': February,'March': March,\n",
    "       'April': April, 'May': May,'June': June,'July': July,\n",
    "       'August': August,'September': September,'October': October,'November': November,\n",
    "       'December': December}\n",
    "\n",
    "WorkLoss = pd.DataFrame.from_dict(record, orient='index')\n",
    "\n",
    "WorkLoss.rename(index=str, columns={0: \"Work Load Loss/Month\"})"
   ]
  },
  {
   "cell_type": "code",
   "execution_count": null,
   "metadata": {},
   "outputs": [],
   "source": []
  }
 ],
 "metadata": {
  "kernelspec": {
   "display_name": "Python 3",
   "language": "python",
   "name": "python3"
  },
  "language_info": {
   "codemirror_mode": {
    "name": "ipython",
    "version": 3
   },
   "file_extension": ".py",
   "mimetype": "text/x-python",
   "name": "python",
   "nbconvert_exporter": "python",
   "pygments_lexer": "ipython3",
   "version": "3.6.5"
  }
 },
 "nbformat": 4,
 "nbformat_minor": 2
}
